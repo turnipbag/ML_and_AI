{
 "cells": [
  {
   "cell_type": "code",
   "execution_count": 1,
   "metadata": {},
   "outputs": [],
   "source": [
    "import numpy as np\n",
    "import pandas as pd\n",
    "from datetime import date\n",
    "import random\n",
    "import matplotlib.pyplot as plt\n",
    "from matplotlib import gridspec\n",
    "import matplotlib.ticker as mtick\n",
    "%matplotlib inline\n",
    "import lifelines\n",
    "pd.options.mode.chained_assignment = None"
   ]
  },
  {
   "cell_type": "markdown",
   "metadata": {},
   "source": [
    "## Data preprocessing"
   ]
  },
  {
   "cell_type": "code",
   "execution_count": 2,
   "metadata": {},
   "outputs": [],
   "source": [
    "#change datatypes for more efficient memory allocation\n",
    "covid = pd.read_csv('covid19_data_22022021.csv',\n",
    "        dtype=dict(sex='category',\n",
    "                   age='str',\n",
    "                   city='category',\n",
    "                    province='category',\n",
    "                    country='category',\n",
    "                    geo_resolution='category',\n",
    "                    date_onset_symptoms='category',\n",
    "                    date_admission_hospital='category',\n",
    "                    symptoms='str',\n",
    "                    additional_information='str',\n",
    "                    date_death_or_discharge='str',\n",
    "                    travel_history_dates='str',\n",
    "                    notes_for_discussion='str',\n",
    "                    latitude=float,\n",
    "                    longitude=float,\n",
    "                    lives_in_Wuhan='category',\n",
    "                    travel_history_location='category',\n",
    "                    reported_market_exposure='category',\n",
    "                    chronic_disease_binary='category',\n",
    "                    chronic_disease='category',\n",
    "                    source='category',\n",
    "                    sequence_available='category',\n",
    "                    outcome='str',\n",
    "                    #sequence_available=bool,\n",
    "                    location='category',\n",
    "                    admin3='category',\n",
    "                    admin2='category',\n",
    "                    admin1='category',\n",
    "                    country_new='category',\n",
    "                    travel_history_binary='category',\n",
    "                    data_moderator_initials='category'\n",
    "                    ),)"
   ]
  },
  {
   "cell_type": "code",
   "execution_count": 3,
   "metadata": {
    "scrolled": true
   },
   "outputs": [
    {
     "name": "stdout",
     "output_type": "stream",
     "text": [
      "<class 'pandas.core.frame.DataFrame'>\n",
      "RangeIndex: 572679 entries, 0 to 572678\n",
      "Data columns (total 33 columns):\n",
      "ID                          572679 non-null object\n",
      "age                         572679 non-null object\n",
      "sex                         572679 non-null category\n",
      "city                        524584 non-null category\n",
      "province                    564785 non-null category\n",
      "country                     572635 non-null category\n",
      "latitude                    572679 non-null float64\n",
      "longitude                   572679 non-null float64\n",
      "geo_resolution              572679 non-null category\n",
      "date_onset_symptoms         260311 non-null category\n",
      "date_admission_hospital     9201 non-null category\n",
      "date_confirmation           572410 non-null object\n",
      "symptoms                    1565 non-null object\n",
      "lives_in_Wuhan              1626 non-null category\n",
      "travel_history_dates        2348 non-null object\n",
      "travel_history_location     7816 non-null category\n",
      "reported_market_exposure    402 non-null category\n",
      "additional_information      32480 non-null object\n",
      "chronic_disease_binary      572679 non-null category\n",
      "chronic_disease             163 non-null category\n",
      "source                      156527 non-null category\n",
      "sequence_available          12 non-null category\n",
      "outcome                     33601 non-null object\n",
      "date_death_or_discharge     3094 non-null object\n",
      "notes_for_discussion        232 non-null object\n",
      "location                    1892 non-null category\n",
      "admin3                      531 non-null category\n",
      "admin2                      43930 non-null category\n",
      "admin1                      64006 non-null category\n",
      "country_new                 557193 non-null category\n",
      "admin_id                    572679 non-null float64\n",
      "data_moderator_initials     46245 non-null category\n",
      "travel_history_binary       569209 non-null category\n",
      "dtypes: category(21), float64(3), object(9)\n",
      "memory usage: 69.5+ MB\n"
     ]
    }
   ],
   "source": [
    "covid.info()"
   ]
  },
  {
   "cell_type": "code",
   "execution_count": 4,
   "metadata": {
    "scrolled": false
   },
   "outputs": [
    {
     "data": {
      "text/plain": [
       "['death',\n",
       " 'discharge',\n",
       " nan,\n",
       " 'discharged',\n",
       " 'Discharged',\n",
       " 'not hospitalized',\n",
       " 'recovered',\n",
       " 'recovering at home 03.03.2020',\n",
       " 'released from quarantine',\n",
       " 'severe',\n",
       " 'stable',\n",
       " 'died',\n",
       " 'Death',\n",
       " 'dead',\n",
       " 'Symptoms only improved with cough. Currently hospitalized for follow-up.',\n",
       " 'treated in an intensive care unit (14.02.2020)',\n",
       " 'Alive',\n",
       " 'Dead',\n",
       " 'Recovered',\n",
       " 'Stable',\n",
       " 'Died',\n",
       " 'Deceased',\n",
       " 'stable condition',\n",
       " 'Under treatment',\n",
       " 'Receiving Treatment',\n",
       " 'severe illness',\n",
       " 'critical condition',\n",
       " 'Hospitalized']"
      ]
     },
     "execution_count": 4,
     "metadata": {},
     "output_type": "execute_result"
    }
   ],
   "source": [
    "#check values in the outcome column to see how the data will have to be preprocessed\n",
    "list(covid[\"outcome\"].unique())"
   ]
  },
  {
   "cell_type": "code",
   "execution_count": 5,
   "metadata": {
    "scrolled": true
   },
   "outputs": [
    {
     "name": "stdout",
     "output_type": "stream",
     "text": [
      "<class 'pandas.core.frame.DataFrame'>\n",
      "RangeIndex: 572679 entries, 0 to 572678\n",
      "Data columns (total 6 columns):\n",
      "age                        572679 non-null object\n",
      "sex                        572679 non-null category\n",
      "date_confirmation          572410 non-null object\n",
      "chronic_disease_binary     572679 non-null category\n",
      "date_death_or_discharge    3094 non-null object\n",
      "outcome                    33601 non-null object\n",
      "dtypes: category(2), object(4)\n",
      "memory usage: 18.6+ MB\n"
     ]
    }
   ],
   "source": [
    "#extract the following columns for analysis\n",
    "covid = covid[[\"age\",\"sex\",\"date_confirmation\",\"chronic_disease_binary\",\"date_death_or_discharge\",\"outcome\"]]\n",
    "covid.info()"
   ]
  },
  {
   "cell_type": "code",
   "execution_count": 6,
   "metadata": {
    "scrolled": true
   },
   "outputs": [
    {
     "data": {
      "text/html": [
       "<style  type=\"text/css\" >\n",
       "</style><table id=\"T_8910921e_a500_11eb_89cd_b4b686e59a57\" ><thead>    <tr>        <th class=\"blank level0\" ></th>        <th class=\"col_heading level0 col0\" >age</th>        <th class=\"col_heading level0 col1\" >sex</th>        <th class=\"col_heading level0 col2\" >date_confirmation</th>        <th class=\"col_heading level0 col3\" >chronic_disease_binary</th>        <th class=\"col_heading level0 col4\" >date_death_or_discharge</th>        <th class=\"col_heading level0 col5\" >outcome</th>    </tr></thead><tbody>\n",
       "                <tr>\n",
       "                        <th id=\"T_8910921e_a500_11eb_89cd_b4b686e59a57level0_row0\" class=\"row_heading level0 row0\" >0</th>\n",
       "                        <td id=\"T_8910921e_a500_11eb_89cd_b4b686e59a57row0_col0\" class=\"data row0 col0\" >78</td>\n",
       "                        <td id=\"T_8910921e_a500_11eb_89cd_b4b686e59a57row0_col1\" class=\"data row0 col1\" >male</td>\n",
       "                        <td id=\"T_8910921e_a500_11eb_89cd_b4b686e59a57row0_col2\" class=\"data row0 col2\" >21.02.2020</td>\n",
       "                        <td id=\"T_8910921e_a500_11eb_89cd_b4b686e59a57row0_col3\" class=\"data row0 col3\" >False</td>\n",
       "                        <td id=\"T_8910921e_a500_11eb_89cd_b4b686e59a57row0_col4\" class=\"data row0 col4\" >22.02.2020</td>\n",
       "                        <td id=\"T_8910921e_a500_11eb_89cd_b4b686e59a57row0_col5\" class=\"data row0 col5\" >death</td>\n",
       "            </tr>\n",
       "            <tr>\n",
       "                        <th id=\"T_8910921e_a500_11eb_89cd_b4b686e59a57level0_row1\" class=\"row_heading level0 row1\" >1</th>\n",
       "                        <td id=\"T_8910921e_a500_11eb_89cd_b4b686e59a57row1_col0\" class=\"data row1 col0\" >61</td>\n",
       "                        <td id=\"T_8910921e_a500_11eb_89cd_b4b686e59a57row1_col1\" class=\"data row1 col1\" >female</td>\n",
       "                        <td id=\"T_8910921e_a500_11eb_89cd_b4b686e59a57row1_col2\" class=\"data row1 col2\" >14.02.2020</td>\n",
       "                        <td id=\"T_8910921e_a500_11eb_89cd_b4b686e59a57row1_col3\" class=\"data row1 col3\" >False</td>\n",
       "                        <td id=\"T_8910921e_a500_11eb_89cd_b4b686e59a57row1_col4\" class=\"data row1 col4\" >17.02.2020</td>\n",
       "                        <td id=\"T_8910921e_a500_11eb_89cd_b4b686e59a57row1_col5\" class=\"data row1 col5\" >discharge</td>\n",
       "            </tr>\n",
       "            <tr>\n",
       "                        <th id=\"T_8910921e_a500_11eb_89cd_b4b686e59a57level0_row2\" class=\"row_heading level0 row2\" >2</th>\n",
       "                        <td id=\"T_8910921e_a500_11eb_89cd_b4b686e59a57row2_col0\" class=\"data row2 col0\" >66</td>\n",
       "                        <td id=\"T_8910921e_a500_11eb_89cd_b4b686e59a57row2_col1\" class=\"data row2 col1\" >male</td>\n",
       "                        <td id=\"T_8910921e_a500_11eb_89cd_b4b686e59a57row2_col2\" class=\"data row2 col2\" >07.02.2020</td>\n",
       "                        <td id=\"T_8910921e_a500_11eb_89cd_b4b686e59a57row2_col3\" class=\"data row2 col3\" >False</td>\n",
       "                        <td id=\"T_8910921e_a500_11eb_89cd_b4b686e59a57row2_col4\" class=\"data row2 col4\" >nan</td>\n",
       "                        <td id=\"T_8910921e_a500_11eb_89cd_b4b686e59a57row2_col5\" class=\"data row2 col5\" >nan</td>\n",
       "            </tr>\n",
       "            <tr>\n",
       "                        <th id=\"T_8910921e_a500_11eb_89cd_b4b686e59a57level0_row3\" class=\"row_heading level0 row3\" >3</th>\n",
       "                        <td id=\"T_8910921e_a500_11eb_89cd_b4b686e59a57row3_col0\" class=\"data row3 col0\" >27</td>\n",
       "                        <td id=\"T_8910921e_a500_11eb_89cd_b4b686e59a57row3_col1\" class=\"data row3 col1\" >female</td>\n",
       "                        <td id=\"T_8910921e_a500_11eb_89cd_b4b686e59a57row3_col2\" class=\"data row3 col2\" >07.02.2020</td>\n",
       "                        <td id=\"T_8910921e_a500_11eb_89cd_b4b686e59a57row3_col3\" class=\"data row3 col3\" >False</td>\n",
       "                        <td id=\"T_8910921e_a500_11eb_89cd_b4b686e59a57row3_col4\" class=\"data row3 col4\" >nan</td>\n",
       "                        <td id=\"T_8910921e_a500_11eb_89cd_b4b686e59a57row3_col5\" class=\"data row3 col5\" >nan</td>\n",
       "            </tr>\n",
       "            <tr>\n",
       "                        <th id=\"T_8910921e_a500_11eb_89cd_b4b686e59a57level0_row4\" class=\"row_heading level0 row4\" >4</th>\n",
       "                        <td id=\"T_8910921e_a500_11eb_89cd_b4b686e59a57row4_col0\" class=\"data row4 col0\" >17</td>\n",
       "                        <td id=\"T_8910921e_a500_11eb_89cd_b4b686e59a57row4_col1\" class=\"data row4 col1\" >male</td>\n",
       "                        <td id=\"T_8910921e_a500_11eb_89cd_b4b686e59a57row4_col2\" class=\"data row4 col2\" >07.02.2020</td>\n",
       "                        <td id=\"T_8910921e_a500_11eb_89cd_b4b686e59a57row4_col3\" class=\"data row4 col3\" >False</td>\n",
       "                        <td id=\"T_8910921e_a500_11eb_89cd_b4b686e59a57row4_col4\" class=\"data row4 col4\" >nan</td>\n",
       "                        <td id=\"T_8910921e_a500_11eb_89cd_b4b686e59a57row4_col5\" class=\"data row4 col5\" >nan</td>\n",
       "            </tr>\n",
       "    </tbody></table>"
      ],
      "text/plain": [
       "<pandas.io.formats.style.Styler at 0x212f8162508>"
      ]
     },
     "execution_count": 6,
     "metadata": {},
     "output_type": "execute_result"
    }
   ],
   "source": [
    "covid.head().style"
   ]
  },
  {
   "cell_type": "code",
   "execution_count": 7,
   "metadata": {},
   "outputs": [
    {
     "data": {
      "text/plain": [
       "26259"
      ]
     },
     "execution_count": 7,
     "metadata": {},
     "output_type": "execute_result"
    }
   ],
   "source": [
    "#convert age to numerical type\n",
    "covid[\"age\"] = covid[\"age\"].str.split(\"-\").str[0] #data has ages which are defined as a range xx-yy. I choose to take the first part of the split\n",
    "np.sum(pd.to_numeric(covid[\"age\"], errors=\"coerce\").isnull()) \n",
    "#after this we are left with more than 20k null values. I think we can just get rid of them since we have ovrt 500k rows."
   ]
  },
  {
   "cell_type": "code",
   "execution_count": 8,
   "metadata": {},
   "outputs": [
    {
     "data": {
      "text/plain": [
       "(546420, 6)"
      ]
     },
     "execution_count": 8,
     "metadata": {},
     "output_type": "execute_result"
    }
   ],
   "source": [
    "covid[\"age\"] = pd.to_numeric(covid[\"age\"], errors=\"coerce\")\n",
    "delete = covid[covid[\"age\"].isnull()].index #collect index of null rows\n",
    "covid = covid.drop(delete)\n",
    "covid.shape"
   ]
  },
  {
   "cell_type": "code",
   "execution_count": 9,
   "metadata": {},
   "outputs": [],
   "source": [
    "#convert death related outcomes to 1 and others to 0\n",
    "death_mask = covid[\"outcome\"].isin([\"death\",\"died\",\"dead\",\"Death\",\"Dead\",\"Died\",\"Deceased\"])\n",
    "covid[\"outcome\"] = np.where(death_mask, True, False)"
   ]
  },
  {
   "cell_type": "code",
   "execution_count": 10,
   "metadata": {},
   "outputs": [
    {
     "data": {
      "text/plain": [
       "1368"
      ]
     },
     "execution_count": 10,
     "metadata": {},
     "output_type": "execute_result"
    }
   ],
   "source": [
    "#check number of death outcomes\n",
    "np.sum(covid[\"outcome\"])"
   ]
  },
  {
   "cell_type": "code",
   "execution_count": 11,
   "metadata": {},
   "outputs": [],
   "source": [
    "#convert sex column of male and female to 1s and 0s\n",
    "covid[\"sex\"] = np.where(covid[\"sex\"] == \"male\", 1, 0)"
   ]
  },
  {
   "cell_type": "code",
   "execution_count": 12,
   "metadata": {
    "scrolled": true
   },
   "outputs": [
    {
     "data": {
      "text/plain": [
       "0         1\n",
       "1         0\n",
       "2         1\n",
       "3         0\n",
       "4         1\n",
       "         ..\n",
       "572674    0\n",
       "572675    0\n",
       "572676    0\n",
       "572677    1\n",
       "572678    1\n",
       "Name: sex, Length: 546420, dtype: int32"
      ]
     },
     "execution_count": 12,
     "metadata": {},
     "output_type": "execute_result"
    }
   ],
   "source": [
    "covid[\"sex\"]"
   ]
  },
  {
   "cell_type": "code",
   "execution_count": 13,
   "metadata": {},
   "outputs": [],
   "source": [
    "#convert the censored NaN values to end of study date (22.02.2021)\n",
    "covid[\"date_death_or_discharge\"] = np.where(covid[\"date_death_or_discharge\"].isnull(), \"22.02.2021\", covid[\"date_death_or_discharge\"])"
   ]
  },
  {
   "cell_type": "code",
   "execution_count": 14,
   "metadata": {
    "scrolled": true
   },
   "outputs": [
    {
     "data": {
      "text/plain": [
       "0         22.02.2020\n",
       "1         17.02.2020\n",
       "2         22.02.2021\n",
       "3         22.02.2021\n",
       "4         22.02.2021\n",
       "             ...    \n",
       "572674    22.02.2021\n",
       "572675    22.02.2021\n",
       "572676    22.02.2021\n",
       "572677    22.02.2021\n",
       "572678    22.02.2021\n",
       "Name: date_death_or_discharge, Length: 546420, dtype: object"
      ]
     },
     "execution_count": 14,
     "metadata": {},
     "output_type": "execute_result"
    }
   ],
   "source": [
    "covid[\"date_death_or_discharge\"]"
   ]
  },
  {
   "cell_type": "code",
   "execution_count": 15,
   "metadata": {
    "scrolled": true
   },
   "outputs": [
    {
     "data": {
      "text/plain": [
       "0         21.02.2020\n",
       "1         14.02.2020\n",
       "2         07.02.2020\n",
       "3         07.02.2020\n",
       "4         07.02.2020\n",
       "             ...    \n",
       "572674    17.05.2020\n",
       "572675    17.05.2020\n",
       "572676    17.05.2020\n",
       "572677    17.05.2020\n",
       "572678    17.05.2020\n",
       "Name: date_confirmation, Length: 546420, dtype: object"
      ]
     },
     "execution_count": 15,
     "metadata": {},
     "output_type": "execute_result"
    }
   ],
   "source": [
    "covid[\"date_confirmation\"]"
   ]
  },
  {
   "cell_type": "code",
   "execution_count": 16,
   "metadata": {},
   "outputs": [
    {
     "data": {
      "text/plain": [
       "269"
      ]
     },
     "execution_count": 16,
     "metadata": {},
     "output_type": "execute_result"
    }
   ],
   "source": [
    "#check how many rows have null starting date. \n",
    "np.sum(covid[\"date_confirmation\"].isnull())"
   ]
  },
  {
   "cell_type": "code",
   "execution_count": 17,
   "metadata": {},
   "outputs": [
    {
     "data": {
      "text/plain": [
       "269"
      ]
     },
     "execution_count": 17,
     "metadata": {},
     "output_type": "execute_result"
    }
   ],
   "source": [
    "#Being just a small number out of the whole we can just delete these rows\n",
    "delete = covid[covid[\"date_confirmation\"].isnull()].index #collect index of null rows\n",
    "before = covid.shape[0]\n",
    "covid = covid.drop(delete)\n",
    "after = covid.shape[0]\n",
    "before-after #appropriate number of rows was deleted!"
   ]
  },
  {
   "cell_type": "code",
   "execution_count": 18,
   "metadata": {},
   "outputs": [
    {
     "data": {
      "text/plain": [
       "5"
      ]
     },
     "execution_count": 18,
     "metadata": {},
     "output_type": "execute_result"
    }
   ],
   "source": [
    "#Now we must convert our date columns to actual date datatypes so we can compute our duration variable\n",
    "np.sum(pd.to_datetime(covid[\"date_confirmation\"], errors=\"coerce\", format=\"%d.%m.%Y\").isnull()) #Few of our dates unable to be converted. we can just get rid of these rows"
   ]
  },
  {
   "cell_type": "code",
   "execution_count": 19,
   "metadata": {},
   "outputs": [],
   "source": [
    "#convert date_confirmation first to datetime\n",
    "covid[\"date_confirmation\"] = pd.to_datetime(covid[\"date_confirmation\"], errors=\"coerce\", format=\"%d.%m.%Y\")"
   ]
  },
  {
   "cell_type": "code",
   "execution_count": 20,
   "metadata": {},
   "outputs": [
    {
     "data": {
      "text/plain": [
       "(546151, 6)"
      ]
     },
     "execution_count": 20,
     "metadata": {},
     "output_type": "execute_result"
    }
   ],
   "source": [
    "covid.shape"
   ]
  },
  {
   "cell_type": "code",
   "execution_count": 21,
   "metadata": {},
   "outputs": [
    {
     "data": {
      "text/plain": [
       "(546146, 6)"
      ]
     },
     "execution_count": 21,
     "metadata": {},
     "output_type": "execute_result"
    }
   ],
   "source": [
    "delete = covid[covid[\"date_confirmation\"].isnull()].index\n",
    "covid = covid.drop(delete)\n",
    "covid.shape #we can see that 5 rows were only dropped as wanted"
   ]
  },
  {
   "cell_type": "code",
   "execution_count": 22,
   "metadata": {},
   "outputs": [
    {
     "data": {
      "text/plain": [
       "1"
      ]
     },
     "execution_count": 22,
     "metadata": {},
     "output_type": "execute_result"
    }
   ],
   "source": [
    "np.sum(pd.to_datetime(covid[\"date_death_or_discharge\"], errors=\"coerce\", format=\"%d.%m.%Y\").isnull()) #1 null in second date column"
   ]
  },
  {
   "cell_type": "code",
   "execution_count": 23,
   "metadata": {},
   "outputs": [],
   "source": [
    "#convert date_death_or_discharged to datetime\n",
    "covid[\"date_death_or_discharge\"] = pd.to_datetime(covid[\"date_death_or_discharge\"], errors=\"coerce\", format=\"%d.%m.%Y\")"
   ]
  },
  {
   "cell_type": "code",
   "execution_count": 24,
   "metadata": {},
   "outputs": [
    {
     "data": {
      "text/plain": [
       "count    546145.000000\n",
       "mean        300.657203\n",
       "std          33.118799\n",
       "min           0.000000\n",
       "25%         279.000000\n",
       "50%         301.000000\n",
       "75%         323.000000\n",
       "max         407.000000\n",
       "Name: DURATION, dtype: float64"
      ]
     },
     "execution_count": 24,
     "metadata": {},
     "output_type": "execute_result"
    }
   ],
   "source": [
    "#create a new column where we have the duration = date_death_or_discharge minus date_confirmation\n",
    "covid[\"DURATION\"] = abs(covid[\"date_death_or_discharge\"] - covid[\"date_confirmation\"]).dt.days #capitalized column name to distinguish between original and created column\n",
    "covid[\"DURATION\"].describe() #Choose days for duration since there are not that huge numbers (max is 407 days)"
   ]
  },
  {
   "cell_type": "code",
   "execution_count": 25,
   "metadata": {},
   "outputs": [
    {
     "data": {
      "text/html": [
       "<style  type=\"text/css\" >\n",
       "</style><table id=\"T_8a353d0a_a500_11eb_bae9_b4b686e59a57\" ><thead>    <tr>        <th class=\"blank level0\" ></th>        <th class=\"col_heading level0 col0\" >age</th>        <th class=\"col_heading level0 col1\" >sex</th>        <th class=\"col_heading level0 col2\" >date_confirmation</th>        <th class=\"col_heading level0 col3\" >chronic_disease_binary</th>        <th class=\"col_heading level0 col4\" >date_death_or_discharge</th>        <th class=\"col_heading level0 col5\" >outcome</th>        <th class=\"col_heading level0 col6\" >DURATION</th>    </tr></thead><tbody>\n",
       "                <tr>\n",
       "                        <th id=\"T_8a353d0a_a500_11eb_bae9_b4b686e59a57level0_row0\" class=\"row_heading level0 row0\" >0</th>\n",
       "                        <td id=\"T_8a353d0a_a500_11eb_bae9_b4b686e59a57row0_col0\" class=\"data row0 col0\" >78</td>\n",
       "                        <td id=\"T_8a353d0a_a500_11eb_bae9_b4b686e59a57row0_col1\" class=\"data row0 col1\" >1</td>\n",
       "                        <td id=\"T_8a353d0a_a500_11eb_bae9_b4b686e59a57row0_col2\" class=\"data row0 col2\" >2020-02-21 00:00:00</td>\n",
       "                        <td id=\"T_8a353d0a_a500_11eb_bae9_b4b686e59a57row0_col3\" class=\"data row0 col3\" >False</td>\n",
       "                        <td id=\"T_8a353d0a_a500_11eb_bae9_b4b686e59a57row0_col4\" class=\"data row0 col4\" >2020-02-22 00:00:00</td>\n",
       "                        <td id=\"T_8a353d0a_a500_11eb_bae9_b4b686e59a57row0_col5\" class=\"data row0 col5\" >True</td>\n",
       "                        <td id=\"T_8a353d0a_a500_11eb_bae9_b4b686e59a57row0_col6\" class=\"data row0 col6\" >1</td>\n",
       "            </tr>\n",
       "            <tr>\n",
       "                        <th id=\"T_8a353d0a_a500_11eb_bae9_b4b686e59a57level0_row1\" class=\"row_heading level0 row1\" >1</th>\n",
       "                        <td id=\"T_8a353d0a_a500_11eb_bae9_b4b686e59a57row1_col0\" class=\"data row1 col0\" >61</td>\n",
       "                        <td id=\"T_8a353d0a_a500_11eb_bae9_b4b686e59a57row1_col1\" class=\"data row1 col1\" >0</td>\n",
       "                        <td id=\"T_8a353d0a_a500_11eb_bae9_b4b686e59a57row1_col2\" class=\"data row1 col2\" >2020-02-14 00:00:00</td>\n",
       "                        <td id=\"T_8a353d0a_a500_11eb_bae9_b4b686e59a57row1_col3\" class=\"data row1 col3\" >False</td>\n",
       "                        <td id=\"T_8a353d0a_a500_11eb_bae9_b4b686e59a57row1_col4\" class=\"data row1 col4\" >2020-02-17 00:00:00</td>\n",
       "                        <td id=\"T_8a353d0a_a500_11eb_bae9_b4b686e59a57row1_col5\" class=\"data row1 col5\" >False</td>\n",
       "                        <td id=\"T_8a353d0a_a500_11eb_bae9_b4b686e59a57row1_col6\" class=\"data row1 col6\" >3</td>\n",
       "            </tr>\n",
       "            <tr>\n",
       "                        <th id=\"T_8a353d0a_a500_11eb_bae9_b4b686e59a57level0_row2\" class=\"row_heading level0 row2\" >2</th>\n",
       "                        <td id=\"T_8a353d0a_a500_11eb_bae9_b4b686e59a57row2_col0\" class=\"data row2 col0\" >66</td>\n",
       "                        <td id=\"T_8a353d0a_a500_11eb_bae9_b4b686e59a57row2_col1\" class=\"data row2 col1\" >1</td>\n",
       "                        <td id=\"T_8a353d0a_a500_11eb_bae9_b4b686e59a57row2_col2\" class=\"data row2 col2\" >2020-02-07 00:00:00</td>\n",
       "                        <td id=\"T_8a353d0a_a500_11eb_bae9_b4b686e59a57row2_col3\" class=\"data row2 col3\" >False</td>\n",
       "                        <td id=\"T_8a353d0a_a500_11eb_bae9_b4b686e59a57row2_col4\" class=\"data row2 col4\" >2021-02-22 00:00:00</td>\n",
       "                        <td id=\"T_8a353d0a_a500_11eb_bae9_b4b686e59a57row2_col5\" class=\"data row2 col5\" >False</td>\n",
       "                        <td id=\"T_8a353d0a_a500_11eb_bae9_b4b686e59a57row2_col6\" class=\"data row2 col6\" >381</td>\n",
       "            </tr>\n",
       "            <tr>\n",
       "                        <th id=\"T_8a353d0a_a500_11eb_bae9_b4b686e59a57level0_row3\" class=\"row_heading level0 row3\" >3</th>\n",
       "                        <td id=\"T_8a353d0a_a500_11eb_bae9_b4b686e59a57row3_col0\" class=\"data row3 col0\" >27</td>\n",
       "                        <td id=\"T_8a353d0a_a500_11eb_bae9_b4b686e59a57row3_col1\" class=\"data row3 col1\" >0</td>\n",
       "                        <td id=\"T_8a353d0a_a500_11eb_bae9_b4b686e59a57row3_col2\" class=\"data row3 col2\" >2020-02-07 00:00:00</td>\n",
       "                        <td id=\"T_8a353d0a_a500_11eb_bae9_b4b686e59a57row3_col3\" class=\"data row3 col3\" >False</td>\n",
       "                        <td id=\"T_8a353d0a_a500_11eb_bae9_b4b686e59a57row3_col4\" class=\"data row3 col4\" >2021-02-22 00:00:00</td>\n",
       "                        <td id=\"T_8a353d0a_a500_11eb_bae9_b4b686e59a57row3_col5\" class=\"data row3 col5\" >False</td>\n",
       "                        <td id=\"T_8a353d0a_a500_11eb_bae9_b4b686e59a57row3_col6\" class=\"data row3 col6\" >381</td>\n",
       "            </tr>\n",
       "            <tr>\n",
       "                        <th id=\"T_8a353d0a_a500_11eb_bae9_b4b686e59a57level0_row4\" class=\"row_heading level0 row4\" >4</th>\n",
       "                        <td id=\"T_8a353d0a_a500_11eb_bae9_b4b686e59a57row4_col0\" class=\"data row4 col0\" >17</td>\n",
       "                        <td id=\"T_8a353d0a_a500_11eb_bae9_b4b686e59a57row4_col1\" class=\"data row4 col1\" >1</td>\n",
       "                        <td id=\"T_8a353d0a_a500_11eb_bae9_b4b686e59a57row4_col2\" class=\"data row4 col2\" >2020-02-07 00:00:00</td>\n",
       "                        <td id=\"T_8a353d0a_a500_11eb_bae9_b4b686e59a57row4_col3\" class=\"data row4 col3\" >False</td>\n",
       "                        <td id=\"T_8a353d0a_a500_11eb_bae9_b4b686e59a57row4_col4\" class=\"data row4 col4\" >2021-02-22 00:00:00</td>\n",
       "                        <td id=\"T_8a353d0a_a500_11eb_bae9_b4b686e59a57row4_col5\" class=\"data row4 col5\" >False</td>\n",
       "                        <td id=\"T_8a353d0a_a500_11eb_bae9_b4b686e59a57row4_col6\" class=\"data row4 col6\" >381</td>\n",
       "            </tr>\n",
       "    </tbody></table>"
      ],
      "text/plain": [
       "<pandas.io.formats.style.Styler at 0x21286be6448>"
      ]
     },
     "execution_count": 25,
     "metadata": {},
     "output_type": "execute_result"
    }
   ],
   "source": [
    "covid.head().style"
   ]
  },
  {
   "cell_type": "code",
   "execution_count": 26,
   "metadata": {},
   "outputs": [
    {
     "name": "stdout",
     "output_type": "stream",
     "text": [
      "<class 'pandas.core.frame.DataFrame'>\n",
      "Int64Index: 546146 entries, 0 to 572678\n",
      "Data columns (total 7 columns):\n",
      "age                        546146 non-null float64\n",
      "sex                        546146 non-null int32\n",
      "date_confirmation          546146 non-null datetime64[ns]\n",
      "chronic_disease_binary     546146 non-null category\n",
      "date_death_or_discharge    546145 non-null datetime64[ns]\n",
      "outcome                    546146 non-null bool\n",
      "DURATION                   546145 non-null float64\n",
      "dtypes: bool(1), category(1), datetime64[ns](2), float64(2), int32(1)\n",
      "memory usage: 24.0 MB\n"
     ]
    }
   ],
   "source": [
    "covid.info()"
   ]
  },
  {
   "cell_type": "code",
   "execution_count": 27,
   "metadata": {},
   "outputs": [
    {
     "data": {
      "text/plain": [
       "(546145, 7)"
      ]
     },
     "execution_count": 27,
     "metadata": {},
     "output_type": "execute_result"
    }
   ],
   "source": [
    "delete = covid[covid[\"DURATION\"].isnull()].index\n",
    "covid = covid.drop(delete)\n",
    "covid.shape"
   ]
  },
  {
   "cell_type": "code",
   "execution_count": 28,
   "metadata": {},
   "outputs": [
    {
     "name": "stdout",
     "output_type": "stream",
     "text": [
      "<class 'pandas.core.frame.DataFrame'>\n",
      "Int64Index: 546145 entries, 0 to 572678\n",
      "Data columns (total 7 columns):\n",
      "age                        546145 non-null float64\n",
      "sex                        546145 non-null int32\n",
      "date_confirmation          546145 non-null datetime64[ns]\n",
      "chronic_disease_binary     546145 non-null category\n",
      "date_death_or_discharge    546145 non-null datetime64[ns]\n",
      "outcome                    546145 non-null bool\n",
      "DURATION                   546145 non-null float64\n",
      "dtypes: bool(1), category(1), datetime64[ns](2), float64(2), int32(1)\n",
      "memory usage: 24.0 MB\n"
     ]
    }
   ],
   "source": [
    "covid.info()"
   ]
  },
  {
   "cell_type": "code",
   "execution_count": 29,
   "metadata": {},
   "outputs": [
    {
     "data": {
      "text/plain": [
       "1326"
      ]
     },
     "execution_count": 29,
     "metadata": {},
     "output_type": "execute_result"
    }
   ],
   "source": [
    "np.sum(covid[\"outcome\"])"
   ]
  },
  {
   "cell_type": "code",
   "execution_count": 30,
   "metadata": {
    "scrolled": true
   },
   "outputs": [
    {
     "data": {
      "text/plain": [
       "0         False\n",
       "1         False\n",
       "2         False\n",
       "3         False\n",
       "4         False\n",
       "          ...  \n",
       "572674    False\n",
       "572675    False\n",
       "572676    False\n",
       "572677    False\n",
       "572678    False\n",
       "Name: chronic_disease_binary, Length: 546145, dtype: bool"
      ]
     },
     "execution_count": 30,
     "metadata": {},
     "output_type": "execute_result"
    }
   ],
   "source": [
    "covid[\"chronic_disease_binary\"] = np.where(covid[\"chronic_disease_binary\"] == \"True\", True, False)\n",
    "covid[\"chronic_disease_binary\"]"
   ]
  },
  {
   "cell_type": "markdown",
   "metadata": {},
   "source": [
    "## Kaplan Meier model"
   ]
  },
  {
   "cell_type": "code",
   "execution_count": 31,
   "metadata": {},
   "outputs": [
    {
     "data": {
      "image/png": "[encoded data removed]",
      "text/plain": [
       "<Figure size 864x504 with 2 Axes>"
      ]
     },
     "metadata": {
      "needs_background": "light"
     },
     "output_type": "display_data"
    }
   ],
   "source": [
    "days = covid['DURATION'].values\n",
    "died = covid['outcome'].values\n",
    "kmf = lifelines.KaplanMeierFitter()\n",
    "kmf.fit(days, event_observed=died, label='Estimate for Covid19 survival')\n",
    "\n",
    "# plotting kmf curve\n",
    "fig, ax = plt.subplots(figsize=(12,7))\n",
    "kmf.plot(ax=ax,show_censors=True, censor_styles={'ms': 3, 'marker': 's'},at_risk_counts=True)\n",
    "ax.set_title('Kaplan-Meier Survival Curve - All patients')\n",
    "ax.set_xlabel('Disease Duration Time (Days)')\n",
    "ax.set_ylabel('Disease Survival Chance (%)')\n",
    "plt.show()"
   ]
  },
  {
   "cell_type": "code",
   "execution_count": 32,
   "metadata": {},
   "outputs": [],
   "source": [
    "# function for creating Kaplan-Meier curve plots segmented\n",
    "# by categorical variables\n",
    "def plot_categorical_survival(feature, t='DURATION', event= 'outcome', df=covid, ax=None):\n",
    "    for cat in df[feature].unique():\n",
    "        idx = df[feature] == cat\n",
    "        kmf = lifelines.KaplanMeierFitter()\n",
    "        kmf.fit(df[idx][t], event_observed=df[idx][event], label=cat)\n",
    "        kmf.plot(ax=ax, label=cat)"
   ]
  },
  {
   "cell_type": "code",
   "execution_count": 33,
   "metadata": {},
   "outputs": [
    {
     "data": {
      "image/png": "[encoded data removed]",
      "text/plain": [
       "<Figure size 864x504 with 1 Axes>"
      ]
     },
     "metadata": {
      "needs_background": "light"
     },
     "output_type": "display_data"
    }
   ],
   "source": [
    "#plot by gender\n",
    "fig_gen, ax_gen = plt.subplots(figsize=(12,7))\n",
    "plot_categorical_survival(feature='sex', ax=ax_gen)\n",
    "ax_gen.set_title('Patient Survival by gender')\n",
    "ax_gen.set_xlabel('Patient Survival Time  (Days)')\n",
    "ax_gen.set_ylabel('Patient Survival Chance (%)')\n",
    "plt.show()"
   ]
  },
  {
   "cell_type": "code",
   "execution_count": 34,
   "metadata": {},
   "outputs": [
    {
     "data": {
      "text/html": [
       "<div>\n",
       "<style scoped>\n",
       "    .dataframe tbody tr th:only-of-type {\n",
       "        vertical-align: middle;\n",
       "    }\n",
       "\n",
       "    .dataframe tbody tr th {\n",
       "        vertical-align: top;\n",
       "    }\n",
       "\n",
       "    .dataframe thead th {\n",
       "        text-align: right;\n",
       "    }\n",
       "</style>\n",
       "<table border=\"1\" class=\"dataframe\">\n",
       "  <tbody>\n",
       "    <tr>\n",
       "      <th>t_0</th>\n",
       "      <td>-1</td>\n",
       "    </tr>\n",
       "    <tr>\n",
       "      <th>null_distribution</th>\n",
       "      <td>chi squared</td>\n",
       "    </tr>\n",
       "    <tr>\n",
       "      <th>degrees_of_freedom</th>\n",
       "      <td>1</td>\n",
       "    </tr>\n",
       "    <tr>\n",
       "      <th>alpha</th>\n",
       "      <td>0.99</td>\n",
       "    </tr>\n",
       "    <tr>\n",
       "      <th>test_name</th>\n",
       "      <td>logrank_test</td>\n",
       "    </tr>\n",
       "  </tbody>\n",
       "</table>\n",
       "</div><table border=\"1\" class=\"dataframe\">\n",
       "  <thead>\n",
       "    <tr style=\"text-align: right;\">\n",
       "      <th></th>\n",
       "      <th>test_statistic</th>\n",
       "      <th>p</th>\n",
       "      <th>-log2(p)</th>\n",
       "    </tr>\n",
       "  </thead>\n",
       "  <tbody>\n",
       "    <tr>\n",
       "      <th>0</th>\n",
       "      <td>52.05</td>\n",
       "      <td>&lt;0.005</td>\n",
       "      <td>40.75</td>\n",
       "    </tr>\n",
       "  </tbody>\n",
       "</table>"
      ],
      "text/latex": [
       "\\begin{tabular}{lrrr}\n",
       "\\toprule\n",
       "{} &  test\\_statistic &             p &   -log2(p) \\\\\n",
       "\\midrule\n",
       "0 &       52.046609 &  5.419875e-13 &  40.746806 \\\\\n",
       "\\bottomrule\n",
       "\\end{tabular}\n"
      ],
      "text/plain": [
       "<lifelines.StatisticalResult: logrank_test>\n",
       "               t_0 = -1\n",
       " null_distribution = chi squared\n",
       "degrees_of_freedom = 1\n",
       "             alpha = 0.99\n",
       "         test_name = logrank_test\n",
       "\n",
       "---\n",
       " test_statistic      p  -log2(p)\n",
       "          52.05 <0.005     40.75"
      ]
     },
     "metadata": {},
     "output_type": "display_data"
    }
   ],
   "source": [
    "male = (covid[\"sex\"] == 1)\n",
    "T = covid[\"DURATION\"]\n",
    "E = covid[\"outcome\"]\n",
    "kmf.fit(T[male], event_observed=E[male])\n",
    "\n",
    "from lifelines.statistics import logrank_test\n",
    "\n",
    "covid_gender_results = logrank_test(T[male], T[~male], E[male], E[~male], alpha=.99)\n",
    "covid_gender_results.print_summary()"
   ]
  },
  {
   "cell_type": "code",
   "execution_count": 35,
   "metadata": {},
   "outputs": [],
   "source": [
    "#create new column for three different age groups\n",
    "covid[\"AGE_GROUP\"] = pd.cut(covid[\"age\"], bins=[-1,39,64,9999], labels=[\"young\",\"middle\",\"old\"])"
   ]
  },
  {
   "cell_type": "code",
   "execution_count": 36,
   "metadata": {},
   "outputs": [
    {
     "data": {
      "image/png": "[encoded data removed]",
      "text/plain": [
       "<Figure size 864x504 with 1 Axes>"
      ]
     },
     "metadata": {
      "needs_background": "light"
     },
     "output_type": "display_data"
    }
   ],
   "source": [
    "fig_agrp, ax_agrp = plt.subplots(figsize=(12,7))\n",
    "plot_categorical_survival(feature='AGE_GROUP', ax=ax_agrp)\n",
    "ax_agrp.set_title('Patient Survival By Age')\n",
    "ax_agrp.set_xlabel('Patient Survival Time  (Days)')\n",
    "ax_agrp.set_ylabel('Patient Survival Chance (%)')\n",
    "plt.show()"
   ]
  },
  {
   "cell_type": "code",
   "execution_count": 37,
   "metadata": {},
   "outputs": [
    {
     "data": {
      "text/html": [
       "<div>\n",
       "<style scoped>\n",
       "    .dataframe tbody tr th:only-of-type {\n",
       "        vertical-align: middle;\n",
       "    }\n",
       "\n",
       "    .dataframe tbody tr th {\n",
       "        vertical-align: top;\n",
       "    }\n",
       "\n",
       "    .dataframe thead th {\n",
       "        text-align: right;\n",
       "    }\n",
       "</style>\n",
       "<table border=\"1\" class=\"dataframe\">\n",
       "  <tbody>\n",
       "    <tr>\n",
       "      <th>t_0</th>\n",
       "      <td>-1</td>\n",
       "    </tr>\n",
       "    <tr>\n",
       "      <th>null_distribution</th>\n",
       "      <td>chi squared</td>\n",
       "    </tr>\n",
       "    <tr>\n",
       "      <th>degrees_of_freedom</th>\n",
       "      <td>1</td>\n",
       "    </tr>\n",
       "    <tr>\n",
       "      <th>alpha</th>\n",
       "      <td>0.99</td>\n",
       "    </tr>\n",
       "    <tr>\n",
       "      <th>test_name</th>\n",
       "      <td>logrank_test</td>\n",
       "    </tr>\n",
       "  </tbody>\n",
       "</table>\n",
       "</div><table border=\"1\" class=\"dataframe\">\n",
       "  <thead>\n",
       "    <tr style=\"text-align: right;\">\n",
       "      <th></th>\n",
       "      <th>test_statistic</th>\n",
       "      <th>p</th>\n",
       "      <th>-log2(p)</th>\n",
       "    </tr>\n",
       "  </thead>\n",
       "  <tbody>\n",
       "    <tr>\n",
       "      <th>0</th>\n",
       "      <td>2113.92</td>\n",
       "      <td>&lt;0.005</td>\n",
       "      <td>inf</td>\n",
       "    </tr>\n",
       "  </tbody>\n",
       "</table>"
      ],
      "text/latex": [
       "\\begin{tabular}{lrrr}\n",
       "\\toprule\n",
       "{} &  test\\_statistic &    p &  -log2(p) \\\\\n",
       "\\midrule\n",
       "0 &     2113.924594 &  0.0 &       inf \\\\\n",
       "\\bottomrule\n",
       "\\end{tabular}\n"
      ],
      "text/plain": [
       "<lifelines.StatisticalResult: logrank_test>\n",
       "               t_0 = -1\n",
       " null_distribution = chi squared\n",
       "degrees_of_freedom = 1\n",
       "             alpha = 0.99\n",
       "         test_name = logrank_test\n",
       "\n",
       "---\n",
       " test_statistic      p  -log2(p)\n",
       "        2113.92 <0.005       inf"
      ]
     },
     "metadata": {},
     "output_type": "display_data"
    }
   ],
   "source": [
    "old = (covid[\"AGE_GROUP\"] == \"old\")\n",
    "T = covid[\"DURATION\"]\n",
    "E = covid[\"outcome\"]\n",
    "kmf.fit(T[old], event_observed=E[old])\n",
    "\n",
    "covid_age_results = logrank_test(T[old], T[~old], E[old], E[~old], alpha=.99)\n",
    "covid_age_results.print_summary()"
   ]
  },
  {
   "cell_type": "markdown",
   "metadata": {},
   "source": [
    "## EDA"
   ]
  },
  {
   "cell_type": "code",
   "execution_count": 38,
   "metadata": {},
   "outputs": [
    {
     "data": {
      "text/html": [
       "<div>\n",
       "<style scoped>\n",
       "    .dataframe tbody tr th:only-of-type {\n",
       "        vertical-align: middle;\n",
       "    }\n",
       "\n",
       "    .dataframe tbody tr th {\n",
       "        vertical-align: top;\n",
       "    }\n",
       "\n",
       "    .dataframe thead th {\n",
       "        text-align: right;\n",
       "    }\n",
       "</style>\n",
       "<table border=\"1\" class=\"dataframe\">\n",
       "  <thead>\n",
       "    <tr style=\"text-align: right;\">\n",
       "      <th></th>\n",
       "      <th>age</th>\n",
       "      <th>sex</th>\n",
       "      <th>DURATION</th>\n",
       "    </tr>\n",
       "  </thead>\n",
       "  <tbody>\n",
       "    <tr>\n",
       "      <td>count</td>\n",
       "      <td>546145.000000</td>\n",
       "      <td>546145.000000</td>\n",
       "      <td>546145.000000</td>\n",
       "    </tr>\n",
       "    <tr>\n",
       "      <td>mean</td>\n",
       "      <td>40.607816</td>\n",
       "      <td>0.537742</td>\n",
       "      <td>300.657203</td>\n",
       "    </tr>\n",
       "    <tr>\n",
       "      <td>std</td>\n",
       "      <td>18.582749</td>\n",
       "      <td>0.498574</td>\n",
       "      <td>33.118799</td>\n",
       "    </tr>\n",
       "    <tr>\n",
       "      <td>min</td>\n",
       "      <td>0.000000</td>\n",
       "      <td>0.000000</td>\n",
       "      <td>0.000000</td>\n",
       "    </tr>\n",
       "    <tr>\n",
       "      <td>25%</td>\n",
       "      <td>29.000000</td>\n",
       "      <td>0.000000</td>\n",
       "      <td>279.000000</td>\n",
       "    </tr>\n",
       "    <tr>\n",
       "      <td>50%</td>\n",
       "      <td>36.000000</td>\n",
       "      <td>1.000000</td>\n",
       "      <td>301.000000</td>\n",
       "    </tr>\n",
       "    <tr>\n",
       "      <td>75%</td>\n",
       "      <td>55.000000</td>\n",
       "      <td>1.000000</td>\n",
       "      <td>323.000000</td>\n",
       "    </tr>\n",
       "    <tr>\n",
       "      <td>max</td>\n",
       "      <td>121.000000</td>\n",
       "      <td>1.000000</td>\n",
       "      <td>407.000000</td>\n",
       "    </tr>\n",
       "  </tbody>\n",
       "</table>\n",
       "</div>"
      ],
      "text/plain": [
       "                 age            sex       DURATION\n",
       "count  546145.000000  546145.000000  546145.000000\n",
       "mean       40.607816       0.537742     300.657203\n",
       "std        18.582749       0.498574      33.118799\n",
       "min         0.000000       0.000000       0.000000\n",
       "25%        29.000000       0.000000     279.000000\n",
       "50%        36.000000       1.000000     301.000000\n",
       "75%        55.000000       1.000000     323.000000\n",
       "max       121.000000       1.000000     407.000000"
      ]
     },
     "execution_count": 38,
     "metadata": {},
     "output_type": "execute_result"
    }
   ],
   "source": [
    "covid.describe()"
   ]
  },
  {
   "cell_type": "code",
   "execution_count": 39,
   "metadata": {},
   "outputs": [
    {
     "data": {
      "image/png": "[encoded data removed]",
      "text/plain": [
       "<Figure size 576x360 with 2 Axes>"
      ]
     },
     "metadata": {
      "needs_background": "light"
     },
     "output_type": "display_data"
    }
   ],
   "source": [
    "# plot dead vs. alive \n",
    "keys, counts = np.unique(covid.outcome, return_counts=True)\n",
    "counts_norm = counts/counts.sum()\n",
    "\n",
    "fig = plt.figure(figsize=(8, 5)) #specify figure size\n",
    "gs = gridspec.GridSpec(1, 2, width_ratios=[3,1]) #specify relative size of left and right plot\n",
    "\n",
    "#Absolute values\n",
    "ax0 = plt.subplot(gs[0])\n",
    "ax0 = plt.bar(['alive', 'dead'], counts, color=['#1f77b4','#ff7f0e']) #left bar plot\n",
    "ax0 = plt.title('Dead vs. Alive:\\n Absolute distribution') \n",
    "ax0 = plt.ylabel('frequency')\n",
    "ax0 = plt.text(['Alive'], counts[0]/2, counts[0]) #add text box with count of alive patients\n",
    "ax0 = plt.text(['Dead'], counts[1]/2, counts[1]) #add text box with count of dead patients\n",
    "\n",
    "#Normalized values\n",
    "ax1 = plt.subplot(gs[1])\n",
    "ax1 = plt.bar(['Data'], [counts_norm[0]], label='alive')\n",
    "ax1 = plt.bar(['Data'], [counts_norm[1]], bottom=counts_norm[0], label='dead')\n",
    "ax1 = plt.legend(bbox_to_anchor=(1, 1))\n",
    "ax1 = plt.title('Dead vs. alive:\\n Relative distribution')\n",
    "ax1 = plt.ylabel('frequency')\n",
    "ax1 = plt.text(['Data'],counts_norm[0]/2, '{}%'.format((counts_norm[0]*100).round(1)))\n",
    "ax1 = plt.text(['Data'],(counts_norm[1]/2)+counts_norm[0], '{}%'.format((counts_norm[1]*100).round(1)))\n",
    "\n",
    "plt.tight_layout()\n",
    "plt.show()"
   ]
  },
  {
   "cell_type": "code",
   "execution_count": 40,
   "metadata": {},
   "outputs": [
    {
     "data": {
      "image/png": "[encoded data removed]",
      "text/plain": [
       "<Figure size 864x360 with 2 Axes>"
      ]
     },
     "metadata": {
      "needs_background": "light"
     },
     "output_type": "display_data"
    }
   ],
   "source": [
    "#deaths by age group\n",
    "fig = plt.figure(figsize=(12, 5)) #specify figure size\n",
    "\n",
    "#Absolute distribution\n",
    "plt.subplot(1, 2, 1)\n",
    "ax1 = covid.groupby(['AGE_GROUP', 'outcome'])['outcome'].count().unstack().plot.bar(rot=30, ax=plt.gca(), width=0.7)\n",
    "plt.title('Dead vs. alive by age group:\\n Absolute distribution') \n",
    "#plot bar labels\n",
    "for p in ax1.patches:\n",
    "    ax1.annotate(str(p.get_height()), (p.get_x() * 1.005, p.get_height() * 0.605))\n",
    "\n",
    "#Relative distribution\n",
    "plt.subplot(1, 2, 2)\n",
    "ax2 = covid.groupby(['AGE_GROUP','outcome'])['outcome'].size().groupby(level=0).apply(\n",
    "    lambda x: 100 * x / x.sum()).unstack().plot(kind='bar',stacked=True, rot=30, ax=plt.gca())\n",
    "plt.gca().yaxis.set_major_formatter(mtick.PercentFormatter())\n",
    "plt.legend(bbox_to_anchor=(1, 1))\n",
    "plt.title('Dead vs. alive by age group:\\n Relative distribution') \n",
    "#plot bar labels\n",
    "for p, q in zip(ax2.patches[0:5], ax2.patches[5:10]):\n",
    "    ax2.annotate(str(round(p.get_height(),1)) + '%', (p.get_x(), p.get_height()/2))\n",
    "    ax2.annotate(str(round(q.get_height(),1)) + '%', (q.get_x(), q.get_height()/2+p.get_height()))\n",
    "\n",
    "plt.tight_layout()\n",
    "plt.show()"
   ]
  },
  {
   "cell_type": "code",
   "execution_count": 41,
   "metadata": {},
   "outputs": [
    {
     "data": {
      "image/png": "[encoded data removed]",
      "text/plain": [
       "<Figure size 864x360 with 2 Axes>"
      ]
     },
     "metadata": {
      "needs_background": "light"
     },
     "output_type": "display_data"
    }
   ],
   "source": [
    "#deaths vs. chronic disease being present or not\n",
    "fig = plt.figure(figsize=(12, 5)) #specify figure size\n",
    "\n",
    "#Absolute distribution\n",
    "plt.subplot(1, 2, 1)\n",
    "ax1 = covid.groupby(['chronic_disease_binary', 'outcome'])['outcome'].count().unstack().plot.bar(rot=30, ax=plt.gca(), width=0.7)\n",
    "plt.title('Dead vs. alive by chronic disease being present:\\n Absolute distribution') \n",
    "#plot bar labels\n",
    "for p in ax1.patches:\n",
    "    ax1.annotate(str(p.get_height()), (p.get_x() * 1.005, p.get_height() * 0.605))\n",
    "\n",
    "#Relative distribution\n",
    "plt.subplot(1, 2, 2)\n",
    "ax2 = covid.groupby(['chronic_disease_binary','outcome'])['outcome'].size().groupby(level=0).apply(\n",
    "    lambda x: 100 * x / x.sum()).unstack().plot(kind='bar',stacked=True, rot=30, ax=plt.gca())\n",
    "plt.gca().yaxis.set_major_formatter(mtick.PercentFormatter())\n",
    "plt.legend(bbox_to_anchor=(1, 1))\n",
    "plt.title('Dead vs. alive by chronic disease being present:\\n Relative distribution') \n",
    "#plot bar labels\n",
    "for p, q in zip(ax2.patches[0:5], ax2.patches[5:10]):\n",
    "    ax2.annotate(str(round(p.get_height(),1)) + '%', (p.get_x(), p.get_height()/2))\n",
    "    ax2.annotate(str(round(q.get_height(),1)) + '%', (q.get_x(), q.get_height()/2+p.get_height()))\n",
    "\n",
    "plt.tight_layout()\n",
    "plt.show()"
   ]
  },
  {
   "cell_type": "code",
   "execution_count": 42,
   "metadata": {},
   "outputs": [
    {
     "data": {
      "image/png": "[encoded data removed]",
      "text/plain": [
       "<Figure size 720x360 with 1 Axes>"
      ]
     },
     "metadata": {
      "needs_background": "light"
     },
     "output_type": "display_data"
    }
   ],
   "source": [
    "ax = covid['DURATION'].loc[covid['outcome'] == 1].plot.hist(bins=10, label='dead', figsize = (10,5))\n",
    "ax.set_xlabel('Days to incident')\n",
    "ax.set_title('Relative days toincident distribution')\n",
    "ax.legend();"
   ]
  },
  {
   "cell_type": "markdown",
   "metadata": {},
   "source": [
    "## Cox Regression"
   ]
  },
  {
   "cell_type": "code",
   "execution_count": 43,
   "metadata": {},
   "outputs": [],
   "source": [
    "covid = pd.get_dummies(covid, drop_first = True, columns=[\"AGE_GROUP\"]) #one hot encode the string variables"
   ]
  },
  {
   "cell_type": "code",
   "execution_count": 44,
   "metadata": {},
   "outputs": [
    {
     "data": {
      "text/html": [
       "<div>\n",
       "<style scoped>\n",
       "    .dataframe tbody tr th:only-of-type {\n",
       "        vertical-align: middle;\n",
       "    }\n",
       "\n",
       "    .dataframe tbody tr th {\n",
       "        vertical-align: top;\n",
       "    }\n",
       "\n",
       "    .dataframe thead th {\n",
       "        text-align: right;\n",
       "    }\n",
       "</style>\n",
       "<table border=\"1\" class=\"dataframe\">\n",
       "  <thead>\n",
       "    <tr style=\"text-align: right;\">\n",
       "      <th></th>\n",
       "      <th>age</th>\n",
       "      <th>sex</th>\n",
       "      <th>date_confirmation</th>\n",
       "      <th>chronic_disease_binary</th>\n",
       "      <th>date_death_or_discharge</th>\n",
       "      <th>outcome</th>\n",
       "      <th>DURATION</th>\n",
       "      <th>AGE_GROUP_middle</th>\n",
       "      <th>AGE_GROUP_old</th>\n",
       "    </tr>\n",
       "  </thead>\n",
       "  <tbody>\n",
       "    <tr>\n",
       "      <td>0</td>\n",
       "      <td>78.0</td>\n",
       "      <td>1</td>\n",
       "      <td>2020-02-21</td>\n",
       "      <td>False</td>\n",
       "      <td>2020-02-22</td>\n",
       "      <td>True</td>\n",
       "      <td>1.0</td>\n",
       "      <td>0</td>\n",
       "      <td>1</td>\n",
       "    </tr>\n",
       "    <tr>\n",
       "      <td>1</td>\n",
       "      <td>61.0</td>\n",
       "      <td>0</td>\n",
       "      <td>2020-02-14</td>\n",
       "      <td>False</td>\n",
       "      <td>2020-02-17</td>\n",
       "      <td>False</td>\n",
       "      <td>3.0</td>\n",
       "      <td>1</td>\n",
       "      <td>0</td>\n",
       "    </tr>\n",
       "    <tr>\n",
       "      <td>2</td>\n",
       "      <td>66.0</td>\n",
       "      <td>1</td>\n",
       "      <td>2020-02-07</td>\n",
       "      <td>False</td>\n",
       "      <td>2021-02-22</td>\n",
       "      <td>False</td>\n",
       "      <td>381.0</td>\n",
       "      <td>0</td>\n",
       "      <td>1</td>\n",
       "    </tr>\n",
       "    <tr>\n",
       "      <td>3</td>\n",
       "      <td>27.0</td>\n",
       "      <td>0</td>\n",
       "      <td>2020-02-07</td>\n",
       "      <td>False</td>\n",
       "      <td>2021-02-22</td>\n",
       "      <td>False</td>\n",
       "      <td>381.0</td>\n",
       "      <td>0</td>\n",
       "      <td>0</td>\n",
       "    </tr>\n",
       "    <tr>\n",
       "      <td>4</td>\n",
       "      <td>17.0</td>\n",
       "      <td>1</td>\n",
       "      <td>2020-02-07</td>\n",
       "      <td>False</td>\n",
       "      <td>2021-02-22</td>\n",
       "      <td>False</td>\n",
       "      <td>381.0</td>\n",
       "      <td>0</td>\n",
       "      <td>0</td>\n",
       "    </tr>\n",
       "  </tbody>\n",
       "</table>\n",
       "</div>"
      ],
      "text/plain": [
       "    age  sex date_confirmation  chronic_disease_binary  \\\n",
       "0  78.0    1        2020-02-21                   False   \n",
       "1  61.0    0        2020-02-14                   False   \n",
       "2  66.0    1        2020-02-07                   False   \n",
       "3  27.0    0        2020-02-07                   False   \n",
       "4  17.0    1        2020-02-07                   False   \n",
       "\n",
       "  date_death_or_discharge  outcome  DURATION  AGE_GROUP_middle  AGE_GROUP_old  \n",
       "0              2020-02-22     True       1.0                 0              1  \n",
       "1              2020-02-17    False       3.0                 1              0  \n",
       "2              2021-02-22    False     381.0                 0              1  \n",
       "3              2021-02-22    False     381.0                 0              0  \n",
       "4              2021-02-22    False     381.0                 0              0  "
      ]
     },
     "execution_count": 44,
     "metadata": {},
     "output_type": "execute_result"
    }
   ],
   "source": [
    "covid.head()"
   ]
  },
  {
   "cell_type": "code",
   "execution_count": 45,
   "metadata": {},
   "outputs": [],
   "source": [
    "#drop columns to avoid collinearity\n",
    "dropped =  [\"date_confirmation\", \"date_death_or_discharge\", \"age\", \"chronic_disease_binary\", \"AGE_GROUP_middle\", \"AGE_GROUP_old\"]\n",
    "covid2 = covid.drop(dropped, axis=1)"
   ]
  },
  {
   "cell_type": "code",
   "execution_count": 46,
   "metadata": {},
   "outputs": [
    {
     "data": {
      "text/html": [
       "<style  type=\"text/css\" >\n",
       "</style><table id=\"T_8c11db46_a500_11eb_8296_b4b686e59a57\" ><thead>    <tr>        <th class=\"blank level0\" ></th>        <th class=\"col_heading level0 col0\" >sex</th>        <th class=\"col_heading level0 col1\" >outcome</th>        <th class=\"col_heading level0 col2\" >DURATION</th>    </tr></thead><tbody>\n",
       "                <tr>\n",
       "                        <th id=\"T_8c11db46_a500_11eb_8296_b4b686e59a57level0_row0\" class=\"row_heading level0 row0\" >0</th>\n",
       "                        <td id=\"T_8c11db46_a500_11eb_8296_b4b686e59a57row0_col0\" class=\"data row0 col0\" >1</td>\n",
       "                        <td id=\"T_8c11db46_a500_11eb_8296_b4b686e59a57row0_col1\" class=\"data row0 col1\" >True</td>\n",
       "                        <td id=\"T_8c11db46_a500_11eb_8296_b4b686e59a57row0_col2\" class=\"data row0 col2\" >1</td>\n",
       "            </tr>\n",
       "            <tr>\n",
       "                        <th id=\"T_8c11db46_a500_11eb_8296_b4b686e59a57level0_row1\" class=\"row_heading level0 row1\" >1</th>\n",
       "                        <td id=\"T_8c11db46_a500_11eb_8296_b4b686e59a57row1_col0\" class=\"data row1 col0\" >0</td>\n",
       "                        <td id=\"T_8c11db46_a500_11eb_8296_b4b686e59a57row1_col1\" class=\"data row1 col1\" >False</td>\n",
       "                        <td id=\"T_8c11db46_a500_11eb_8296_b4b686e59a57row1_col2\" class=\"data row1 col2\" >3</td>\n",
       "            </tr>\n",
       "            <tr>\n",
       "                        <th id=\"T_8c11db46_a500_11eb_8296_b4b686e59a57level0_row2\" class=\"row_heading level0 row2\" >2</th>\n",
       "                        <td id=\"T_8c11db46_a500_11eb_8296_b4b686e59a57row2_col0\" class=\"data row2 col0\" >1</td>\n",
       "                        <td id=\"T_8c11db46_a500_11eb_8296_b4b686e59a57row2_col1\" class=\"data row2 col1\" >False</td>\n",
       "                        <td id=\"T_8c11db46_a500_11eb_8296_b4b686e59a57row2_col2\" class=\"data row2 col2\" >381</td>\n",
       "            </tr>\n",
       "            <tr>\n",
       "                        <th id=\"T_8c11db46_a500_11eb_8296_b4b686e59a57level0_row3\" class=\"row_heading level0 row3\" >3</th>\n",
       "                        <td id=\"T_8c11db46_a500_11eb_8296_b4b686e59a57row3_col0\" class=\"data row3 col0\" >0</td>\n",
       "                        <td id=\"T_8c11db46_a500_11eb_8296_b4b686e59a57row3_col1\" class=\"data row3 col1\" >False</td>\n",
       "                        <td id=\"T_8c11db46_a500_11eb_8296_b4b686e59a57row3_col2\" class=\"data row3 col2\" >381</td>\n",
       "            </tr>\n",
       "            <tr>\n",
       "                        <th id=\"T_8c11db46_a500_11eb_8296_b4b686e59a57level0_row4\" class=\"row_heading level0 row4\" >4</th>\n",
       "                        <td id=\"T_8c11db46_a500_11eb_8296_b4b686e59a57row4_col0\" class=\"data row4 col0\" >1</td>\n",
       "                        <td id=\"T_8c11db46_a500_11eb_8296_b4b686e59a57row4_col1\" class=\"data row4 col1\" >False</td>\n",
       "                        <td id=\"T_8c11db46_a500_11eb_8296_b4b686e59a57row4_col2\" class=\"data row4 col2\" >381</td>\n",
       "            </tr>\n",
       "    </tbody></table>"
      ],
      "text/plain": [
       "<pandas.io.formats.style.Styler at 0x212869404c8>"
      ]
     },
     "execution_count": 46,
     "metadata": {},
     "output_type": "execute_result"
    }
   ],
   "source": [
    "covid2.head().style"
   ]
  },
  {
   "cell_type": "code",
   "execution_count": 47,
   "metadata": {},
   "outputs": [
    {
     "data": {
      "text/html": [
       "<div>\n",
       "<style scoped>\n",
       "    .dataframe tbody tr th:only-of-type {\n",
       "        vertical-align: middle;\n",
       "    }\n",
       "\n",
       "    .dataframe tbody tr th {\n",
       "        vertical-align: top;\n",
       "    }\n",
       "\n",
       "    .dataframe thead th {\n",
       "        text-align: right;\n",
       "    }\n",
       "</style>\n",
       "<table border=\"1\" class=\"dataframe\">\n",
       "  <tbody>\n",
       "    <tr>\n",
       "      <th>model</th>\n",
       "      <td>lifelines.CoxPHFitter</td>\n",
       "    </tr>\n",
       "    <tr>\n",
       "      <th>duration col</th>\n",
       "      <td>'DURATION'</td>\n",
       "    </tr>\n",
       "    <tr>\n",
       "      <th>event col</th>\n",
       "      <td>'outcome'</td>\n",
       "    </tr>\n",
       "    <tr>\n",
       "      <th>baseline estimation</th>\n",
       "      <td>breslow</td>\n",
       "    </tr>\n",
       "    <tr>\n",
       "      <th>number of observations</th>\n",
       "      <td>382301</td>\n",
       "    </tr>\n",
       "    <tr>\n",
       "      <th>number of events observed</th>\n",
       "      <td>932</td>\n",
       "    </tr>\n",
       "    <tr>\n",
       "      <th>partial log-likelihood</th>\n",
       "      <td>-11704.17</td>\n",
       "    </tr>\n",
       "    <tr>\n",
       "      <th>time fit was run</th>\n",
       "      <td>2021-04-24 13:25:33 UTC</td>\n",
       "    </tr>\n",
       "  </tbody>\n",
       "</table>\n",
       "</div><table border=\"1\" class=\"dataframe\">\n",
       "  <thead>\n",
       "    <tr style=\"text-align: right;\">\n",
       "      <th style=\"min-width: 12px;\"></th>\n",
       "      <th style=\"min-width: 12px;\">coef</th>\n",
       "      <th style=\"min-width: 12px;\">exp(coef)</th>\n",
       "      <th style=\"min-width: 12px;\">se(coef)</th>\n",
       "      <th style=\"min-width: 12px;\">coef lower 95%</th>\n",
       "      <th style=\"min-width: 12px;\">coef upper 95%</th>\n",
       "      <th style=\"min-width: 12px;\">exp(coef) lower 95%</th>\n",
       "      <th style=\"min-width: 12px;\">exp(coef) upper 95%</th>\n",
       "      <th style=\"min-width: 12px;\">z</th>\n",
       "      <th style=\"min-width: 12px;\">p</th>\n",
       "      <th style=\"min-width: 12px;\">-log2(p)</th>\n",
       "    </tr>\n",
       "  </thead>\n",
       "  <tbody>\n",
       "    <tr>\n",
       "      <th>sex</th>\n",
       "      <td>0.40</td>\n",
       "      <td>1.49</td>\n",
       "      <td>0.07</td>\n",
       "      <td>0.27</td>\n",
       "      <td>0.53</td>\n",
       "      <td>1.31</td>\n",
       "      <td>1.70</td>\n",
       "      <td>5.90</td>\n",
       "      <td>&lt;0.005</td>\n",
       "      <td>28.06</td>\n",
       "    </tr>\n",
       "  </tbody>\n",
       "</table><br><div>\n",
       "<style scoped>\n",
       "    .dataframe tbody tr th:only-of-type {\n",
       "        vertical-align: middle;\n",
       "    }\n",
       "\n",
       "    .dataframe tbody tr th {\n",
       "        vertical-align: top;\n",
       "    }\n",
       "\n",
       "    .dataframe thead th {\n",
       "        text-align: right;\n",
       "    }\n",
       "</style>\n",
       "<table border=\"1\" class=\"dataframe\">\n",
       "  <tbody>\n",
       "    <tr>\n",
       "      <th>Concordance</th>\n",
       "      <td>0.54</td>\n",
       "    </tr>\n",
       "    <tr>\n",
       "      <th>Partial AIC</th>\n",
       "      <td>23410.35</td>\n",
       "    </tr>\n",
       "    <tr>\n",
       "      <th>log-likelihood ratio test</th>\n",
       "      <td>35.83 on 1 df</td>\n",
       "    </tr>\n",
       "    <tr>\n",
       "      <th>-log2(p) of ll-ratio test</th>\n",
       "      <td>28.79</td>\n",
       "    </tr>\n",
       "  </tbody>\n",
       "</table>\n",
       "</div>"
      ],
      "text/latex": [
       "\\begin{tabular}{lrrrrrrrrrr}\n",
       "\\toprule\n",
       "{} &  coef &  exp(coef) &  se(coef) &  coef lower 95\\% &  coef upper 95\\% &  exp(coef) lower 95\\% &  exp(coef) upper 95\\% &    z &    p &  -log2(p) \\\\\n",
       "covariate &       &            &           &                 &                 &                      &                      &      &      &           \\\\\n",
       "\\midrule\n",
       "sex       &  0.40 &       1.49 &      0.07 &            0.27 &            0.53 &                 1.31 &                 1.70 & 5.90 & 0.00 &     28.06 \\\\\n",
       "\\bottomrule\n",
       "\\end{tabular}\n"
      ],
      "text/plain": [
       "<lifelines.CoxPHFitter: fitted with 382301 total observations, 381369 right-censored observations>\n",
       "             duration col = 'DURATION'\n",
       "                event col = 'outcome'\n",
       "      baseline estimation = breslow\n",
       "   number of observations = 382301\n",
       "number of events observed = 932\n",
       "   partial log-likelihood = -11704.17\n",
       "         time fit was run = 2021-04-24 13:25:33 UTC\n",
       "\n",
       "---\n",
       "            coef  exp(coef)   se(coef)   coef lower 95%   coef upper 95%  exp(coef) lower 95%  exp(coef) upper 95%\n",
       "covariate                                                                                                         \n",
       "sex         0.40       1.49       0.07             0.27             0.53                 1.31                 1.70\n",
       "\n",
       "             z      p   -log2(p)\n",
       "covariate                       \n",
       "sex       5.90 <0.005      28.06\n",
       "---\n",
       "Concordance = 0.54\n",
       "Partial AIC = 23410.35\n",
       "log-likelihood ratio test = 35.83 on 1 df\n",
       "-log2(p) of ll-ratio test = 28.79"
      ]
     },
     "metadata": {},
     "output_type": "display_data"
    }
   ],
   "source": [
    "from sklearn.model_selection import train_test_split\n",
    "random.seed(10)\n",
    "\n",
    "covid_train, covid_test = train_test_split(covid2, test_size=0.3)\n",
    "covid_cph = lifelines.CoxPHFitter()\n",
    "covid_cph.fit(covid_train, duration_col=\"DURATION\", event_col=\"outcome\", show_progress=False)\n",
    "covid_cph.print_summary()\n"
   ]
  },
  {
   "cell_type": "code",
   "execution_count": 48,
   "metadata": {},
   "outputs": [
    {
     "data": {
      "image/png": "[encoded data removed]",
      "text/plain": [
       "<Figure size 864x504 with 1 Axes>"
      ]
     },
     "metadata": {
      "needs_background": "light"
     },
     "output_type": "display_data"
    }
   ],
   "source": [
    "# plotting coefficients\n",
    "fig_coef, ax_coef = plt.subplots(figsize=(12,7))\n",
    "ax_coef.set_title('Survival Regression: Coefficients and Confidence Intervals')\n",
    "covid_cph.plot(ax=ax_coef);"
   ]
  },
  {
   "cell_type": "code",
   "execution_count": 49,
   "metadata": {},
   "outputs": [
    {
     "data": {
      "text/plain": [
       "<matplotlib.axes._subplots.AxesSubplot at 0x212865d8248>"
      ]
     },
     "execution_count": 49,
     "metadata": {},
     "output_type": "execute_result"
    },
    {
     "data": {
      "image/png": "[encoded data removed]",
      "text/plain": [
       "<Figure size 432x288 with 1 Axes>"
      ]
     },
     "metadata": {
      "needs_background": "light"
     },
     "output_type": "display_data"
    }
   ],
   "source": [
    "# check covariate group \n",
    "covid_cph.plot_partial_effects_on_outcome('sex', [False,True], cmap='coolwarm')"
   ]
  },
  {
   "cell_type": "code",
   "execution_count": 50,
   "metadata": {},
   "outputs": [],
   "source": [
    "dropped =  [\"date_confirmation\", \"date_death_or_discharge\", \"age\", \"chronic_disease_binary\"]\n",
    "covid3 = covid.drop(dropped, axis=1)"
   ]
  },
  {
   "cell_type": "code",
   "execution_count": null,
   "metadata": {},
   "outputs": [
    {
     "data": {
      "text/html": [
       "<div>\n",
       "<style scoped>\n",
       "    .dataframe tbody tr th:only-of-type {\n",
       "        vertical-align: middle;\n",
       "    }\n",
       "\n",
       "    .dataframe tbody tr th {\n",
       "        vertical-align: top;\n",
       "    }\n",
       "\n",
       "    .dataframe thead th {\n",
       "        text-align: right;\n",
       "    }\n",
       "</style>\n",
       "<table border=\"1\" class=\"dataframe\">\n",
       "  <tbody>\n",
       "    <tr>\n",
       "      <th>model</th>\n",
       "      <td>lifelines.CoxPHFitter</td>\n",
       "    </tr>\n",
       "    <tr>\n",
       "      <th>duration col</th>\n",
       "      <td>'DURATION'</td>\n",
       "    </tr>\n",
       "    <tr>\n",
       "      <th>event col</th>\n",
       "      <td>'outcome'</td>\n",
       "    </tr>\n",
       "    <tr>\n",
       "      <th>strata</th>\n",
       "      <td>[sex]</td>\n",
       "    </tr>\n",
       "    <tr>\n",
       "      <th>baseline estimation</th>\n",
       "      <td>breslow</td>\n",
       "    </tr>\n",
       "    <tr>\n",
       "      <th>number of observations</th>\n",
       "      <td>546145</td>\n",
       "    </tr>\n",
       "    <tr>\n",
       "      <th>number of events observed</th>\n",
       "      <td>1326</td>\n",
       "    </tr>\n",
       "    <tr>\n",
       "      <th>partial log-likelihood</th>\n",
       "      <td>-15315.34</td>\n",
       "    </tr>\n",
       "    <tr>\n",
       "      <th>time fit was run</th>\n",
       "      <td>2021-04-24 13:25:41 UTC</td>\n",
       "    </tr>\n",
       "  </tbody>\n",
       "</table>\n",
       "</div><table border=\"1\" class=\"dataframe\">\n",
       "  <thead>\n",
       "    <tr style=\"text-align: right;\">\n",
       "      <th style=\"min-width: 12px;\"></th>\n",
       "      <th style=\"min-width: 12px;\">coef</th>\n",
       "      <th style=\"min-width: 12px;\">exp(coef)</th>\n",
       "      <th style=\"min-width: 12px;\">se(coef)</th>\n",
       "      <th style=\"min-width: 12px;\">coef lower 95%</th>\n",
       "      <th style=\"min-width: 12px;\">coef upper 95%</th>\n",
       "      <th style=\"min-width: 12px;\">exp(coef) lower 95%</th>\n",
       "      <th style=\"min-width: 12px;\">exp(coef) upper 95%</th>\n",
       "      <th style=\"min-width: 12px;\">z</th>\n",
       "      <th style=\"min-width: 12px;\">p</th>\n",
       "      <th style=\"min-width: 12px;\">-log2(p)</th>\n",
       "    </tr>\n",
       "  </thead>\n",
       "  <tbody>\n",
       "    <tr>\n",
       "      <th>AGE_GROUP_middle</th>\n",
       "      <td>2.07</td>\n",
       "      <td>7.94</td>\n",
       "      <td>0.10</td>\n",
       "      <td>1.87</td>\n",
       "      <td>2.27</td>\n",
       "      <td>6.49</td>\n",
       "      <td>9.72</td>\n",
       "      <td>20.11</td>\n",
       "      <td>&lt;0.005</td>\n",
       "      <td>296.24</td>\n",
       "    </tr>\n",
       "    <tr>\n",
       "      <th>AGE_GROUP_old</th>\n",
       "      <td>3.43</td>\n",
       "      <td>30.95</td>\n",
       "      <td>0.10</td>\n",
       "      <td>3.23</td>\n",
       "      <td>3.63</td>\n",
       "      <td>25.34</td>\n",
       "      <td>37.80</td>\n",
       "      <td>33.64</td>\n",
       "      <td>&lt;0.005</td>\n",
       "      <td>821.72</td>\n",
       "    </tr>\n",
       "  </tbody>\n",
       "</table><br><div>\n",
       "<style scoped>\n",
       "    .dataframe tbody tr th:only-of-type {\n",
       "        vertical-align: middle;\n",
       "    }\n",
       "\n",
       "    .dataframe tbody tr th {\n",
       "        vertical-align: top;\n",
       "    }\n",
       "\n",
       "    .dataframe thead th {\n",
       "        text-align: right;\n",
       "    }\n",
       "</style>\n",
       "<table border=\"1\" class=\"dataframe\">\n",
       "  <tbody>\n",
       "    <tr>\n",
       "      <th>Concordance</th>\n",
       "      <td>0.80</td>\n",
       "    </tr>\n",
       "    <tr>\n",
       "      <th>Partial AIC</th>\n",
       "      <td>30634.69</td>\n",
       "    </tr>\n",
       "    <tr>\n",
       "      <th>log-likelihood ratio test</th>\n",
       "      <td>1831.88 on 2 df</td>\n",
       "    </tr>\n",
       "    <tr>\n",
       "      <th>-log2(p) of ll-ratio test</th>\n",
       "      <td>inf</td>\n",
       "    </tr>\n",
       "  </tbody>\n",
       "</table>\n",
       "</div>"
      ],
      "text/latex": [
       "\\begin{tabular}{lrrrrrrrrrr}\n",
       "\\toprule\n",
       "{} &  coef &  exp(coef) &  se(coef) &  coef lower 95\\% &  coef upper 95\\% &  exp(coef) lower 95\\% &  exp(coef) upper 95\\% &     z &    p &  -log2(p) \\\\\n",
       "covariate        &       &            &           &                 &                 &                      &                      &       &      &           \\\\\n",
       "\\midrule\n",
       "AGE\\_GROUP\\_middle &  2.07 &       7.94 &      0.10 &            1.87 &            2.27 &                 6.49 &                 9.72 & 20.11 & 0.00 &    296.24 \\\\\n",
       "AGE\\_GROUP\\_old    &  3.43 &      30.95 &      0.10 &            3.23 &            3.63 &                25.34 &                37.80 & 33.64 & 0.00 &    821.72 \\\\\n",
       "\\bottomrule\n",
       "\\end{tabular}\n"
      ],
      "text/plain": [
       "<lifelines.CoxPHFitter: fitted with 546145 total observations, 544819 right-censored observations>\n",
       "             duration col = 'DURATION'\n",
       "                event col = 'outcome'\n",
       "                   strata = ['sex']\n",
       "      baseline estimation = breslow\n",
       "   number of observations = 546145\n",
       "number of events observed = 1326\n",
       "   partial log-likelihood = -15315.34\n",
       "         time fit was run = 2021-04-24 13:25:41 UTC\n",
       "\n",
       "---\n",
       "                   coef  exp(coef)   se(coef)   coef lower 95%   coef upper 95%  exp(coef) lower 95%  exp(coef) upper 95%\n",
       "covariate                                                                                                                \n",
       "AGE_GROUP_middle   2.07       7.94       0.10             1.87             2.27                 6.49                 9.72\n",
       "AGE_GROUP_old      3.43      30.95       0.10             3.23             3.63                25.34                37.80\n",
       "\n",
       "                     z      p   -log2(p)\n",
       "covariate                               \n",
       "AGE_GROUP_middle 20.11 <0.005     296.24\n",
       "AGE_GROUP_old    33.64 <0.005     821.72\n",
       "---\n",
       "Concordance = 0.80\n",
       "Partial AIC = 30634.69\n",
       "log-likelihood ratio test = 1831.88 on 2 df\n",
       "-log2(p) of ll-ratio test = inf"
      ]
     },
     "metadata": {},
     "output_type": "display_data"
    }
   ],
   "source": [
    "strata_variables = [\"sex\"]\n",
    "strata_covid_cph = lifelines.CoxPHFitter()\n",
    "\n",
    "\n",
    "strata_covid_cph.fit(covid3, duration_col='DURATION', event_col='outcome', show_progress=False, strata=strata_variables)\n",
    "strata_covid_cph.print_summary()\n",
    "strata_covid_cph.check_assumptions(covid3, p_value_threshold=0.05, show_plots=True)"
   ]
  }
 ],
 "metadata": {
  "kernelspec": {
   "display_name": "Python 3",
   "language": "python",
   "name": "python3"
  },
  "language_info": {
   "codemirror_mode": {
    "name": "ipython",
    "version": 3
   },
   "file_extension": ".py",
   "mimetype": "text/x-python",
   "name": "python",
   "nbconvert_exporter": "python",
   "pygments_lexer": "ipython3",
   "version": "3.7.4"
  }
 },
 "nbformat": 4,
 "nbformat_minor": 2
}
